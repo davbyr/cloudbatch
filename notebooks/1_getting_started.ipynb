{
 "cells": [
  {
   "cell_type": "markdown",
   "id": "bf9034e7-d8a1-4756-9bbc-cfcadc44a0ac",
   "metadata": {},
   "source": [
    "# Getting Started with GSBatch\n",
    "\n",
    "The Gsbatch object is for creating batches of file lists. Once batched, you can get/put files from/to a google bucket in batches, apply analysis in between. \n",
    "\n",
    "## 1. Passing or creating file lists\n",
    "\n",
    "Import the Gsbatch object:"
   ]
  },
  {
   "cell_type": "code",
   "execution_count": 46,
   "id": "66ba793f-502a-4e75-aea0-8cef5f37f1d9",
   "metadata": {},
   "outputs": [],
   "source": [
    "from gsbatch import Gsbatch, gsbatch_apply"
   ]
  },
  {
   "cell_type": "markdown",
   "id": "3da1ae45-2302-4718-a689-41ba0bda68c5",
   "metadata": {},
   "source": [
    "When we create a `Gsbatch` object, we want it to have a list of files over which to create batches. There a number of ways of doing this with `Gsbatch`:\n",
    "\n",
    "1. Pass a list of files directly\n",
    "2. Pass a path containing a wildcard / list with a mix of filenames and wildcards\n",
    "3. Use the Gsbatch filename constructor\n",
    "\n",
    "In all three cases, file lists can be local or remote (on a google bucket). The object will work out how to batch the files. Here are examples of all three methods:\n",
    "\n",
    "* Note: `file_dir` is an optional argument. You can pass directory structures straight to `file_list` or `file_components` too. If `file_dir` is provided, then Gsbatch will place it at the begining of all paths\n",
    "\n",
    "__1. Pass a list of files directly__"
   ]
  },
  {
   "cell_type": "code",
   "execution_count": 12,
   "id": "dfd95161-559c-4573-903c-0e480787c6ac",
   "metadata": {},
   "outputs": [
    {
     "name": "stdout",
     "output_type": "stream",
     "text": [
      "   Number of batches:     3\n",
      "   Number of files:       5\n",
      "\n",
      "   Current batch number:  1\n"
     ]
    }
   ],
   "source": [
    "gsb = Gsbatch(file_dir = 'gs://example_bucket',\n",
    "              file_list = ['file1', 'file2', 'file3', 'file4', 'file5'], \n",
    "              batch_size = 2)\n",
    "gsb.summary()"
   ]
  },
  {
   "cell_type": "markdown",
   "id": "9d628218-2264-4ef7-a347-f8601b44d023",
   "metadata": {},
   "source": [
    "__2. Pass list of paths, optionally containing wildcards__"
   ]
  },
  {
   "cell_type": "markdown",
   "id": "ee7e9c99-8be3-4aae-9dcd-db3ea532fd54",
   "metadata": {},
   "source": [
    "You can pass wildcards in a list of files. In this case, the wildcard will be searched and expanded at the same list position. You may also pass just a single wildcarded file in a string and it will also be expanded.\n",
    "\n",
    "Note, if using wildcards, you should specify where Gsbatch is to search locally (`source='local'`) or remotely (`source='remote'`)."
   ]
  },
  {
   "cell_type": "code",
   "execution_count": 18,
   "id": "77d319e2-225d-4d5c-a538-c07a9c01b676",
   "metadata": {},
   "outputs": [
    {
     "name": "stdout",
     "output_type": "stream",
     "text": [
      "   Number of batches:     3\n",
      "   Number of files:       6\n",
      "\n",
      "   Current batch number:  1\n"
     ]
    }
   ],
   "source": [
    "gsb = Gsbatch(file_dir = '<home_dir>/testdata/',\n",
    "              file_list = ['file11.txt', 'test*'], \n",
    "              source = 'local',\n",
    "              batch_size = 2)\n",
    "gsb.summary()"
   ]
  },
  {
   "cell_type": "markdown",
   "id": "54d0358a-a4bc-4c78-b44d-4d41df4203e9",
   "metadata": {},
   "source": [
    "__3. Use the component file constructor__\n",
    "\n",
    "If you have a set of files which are created in a structured way, then you can use the Gsbatch file constructor to create a list of files. For example, you may have files that are all of the form: \n",
    "\n",
    "```\n",
    "<variable_name>_<model_name>_<time_period>.<file_ext>\n",
    "```\n",
    "\n",
    "We could use the file constructor to create files of this form as follows:"
   ]
  },
  {
   "cell_type": "code",
   "execution_count": 29,
   "id": "267124bb-d5d7-4ee9-a22b-f746e3fce66e",
   "metadata": {},
   "outputs": [
    {
     "name": "stdout",
     "output_type": "stream",
     "text": [
      "   Number of batches:     3\n",
      "   Number of files:       12\n",
      "\n",
      "   Current batch number:  1\n"
     ]
    }
   ],
   "source": [
    "var_list = ['var1_','var2_','var3_']\n",
    "model_list = ['model1_','model2_']\n",
    "time_list = ['1980-2000', '2020-2040']\n",
    "ext = ['.nc']\n",
    "\n",
    "gsb = Gsbatch(file_dir = 'gs://example_bucket',\n",
    "              file_components = [var_list, model_list, time_list, ext],\n",
    "              batch_size=5)\n",
    "gsb.summary()"
   ]
  },
  {
   "cell_type": "markdown",
   "id": "1895cce1-e6ac-4be3-adaa-fe43942c4767",
   "metadata": {},
   "source": [
    "We can view the created files by asking for the `files` variable:"
   ]
  },
  {
   "cell_type": "code",
   "execution_count": 30,
   "id": "a6a10ab9-bd68-4d1f-97f0-e9ab37a417ae",
   "metadata": {},
   "outputs": [
    {
     "data": {
      "text/plain": [
       "['gs://example_bucket/var1_model1_1980-2000.nc',\n",
       " 'gs://example_bucket/var1_model1_2020-2040.nc',\n",
       " 'gs://example_bucket/var1_model2_1980-2000.nc',\n",
       " 'gs://example_bucket/var1_model2_2020-2040.nc',\n",
       " 'gs://example_bucket/var2_model1_1980-2000.nc',\n",
       " 'gs://example_bucket/var2_model1_2020-2040.nc',\n",
       " 'gs://example_bucket/var2_model2_1980-2000.nc',\n",
       " 'gs://example_bucket/var2_model2_2020-2040.nc',\n",
       " 'gs://example_bucket/var3_model1_1980-2000.nc',\n",
       " 'gs://example_bucket/var3_model1_2020-2040.nc',\n",
       " 'gs://example_bucket/var3_model2_1980-2000.nc',\n",
       " 'gs://example_bucket/var3_model2_2020-2040.nc']"
      ]
     },
     "execution_count": 30,
     "metadata": {},
     "output_type": "execute_result"
    }
   ],
   "source": [
    "gsb.files"
   ]
  },
  {
   "cell_type": "markdown",
   "id": "530234d0-da61-4367-9f51-9b14fe7bb827",
   "metadata": {},
   "source": [
    "### 2. Cycling batches"
   ]
  },
  {
   "cell_type": "markdown",
   "id": "feb2213d-a217-450a-a7d1-5e944b1afe7f",
   "metadata": {},
   "source": [
    "Once you have your `Gsbatch` object created and file list defined, we can start cycling through our batches. Calling `Gsbatch.summary()` will show you your current batch number. You can see above that it is always initialised to 1. You can also access the batch number directly by asking for `Gsbatch.current_batch`. Note this will return a Python index (starting at 0) whereas `.summary()` will print the human intuitive number (`current_batch + 1`).\n",
    "\n",
    "You can get the files in the current batch by calling `Gsbatch.files_batch`:"
   ]
  },
  {
   "cell_type": "code",
   "execution_count": 33,
   "id": "b732ad75-38e8-4a0a-8e02-cf696f89bb3b",
   "metadata": {},
   "outputs": [
    {
     "data": {
      "text/plain": [
       "['gs://example_bucket/var1_model1_1980-2000.nc',\n",
       " 'gs://example_bucket/var1_model1_2020-2040.nc',\n",
       " 'gs://example_bucket/var1_model2_1980-2000.nc',\n",
       " 'gs://example_bucket/var1_model2_2020-2040.nc',\n",
       " 'gs://example_bucket/var2_model1_1980-2000.nc']"
      ]
     },
     "execution_count": 33,
     "metadata": {},
     "output_type": "execute_result"
    }
   ],
   "source": [
    "gsb.files_batch"
   ]
  },
  {
   "cell_type": "markdown",
   "id": "bb8b62bb-1b59-4252-97d8-5ad6566bc54b",
   "metadata": {},
   "source": [
    "You can move onto the next batch by calling `next_batch()`:"
   ]
  },
  {
   "cell_type": "code",
   "execution_count": 41,
   "id": "86c5c7e4-449a-44ff-b458-da3f315b3bac",
   "metadata": {},
   "outputs": [
    {
     "name": "stdout",
     "output_type": "stream",
     "text": [
      "   Number of batches:     3\n",
      "   Number of files:       12\n",
      "\n",
      "   Current batch number:  2\n"
     ]
    }
   ],
   "source": [
    "gsb.next_batch()\n",
    "gsb.summary()"
   ]
  },
  {
   "cell_type": "code",
   "execution_count": 37,
   "id": "40180111-bd88-4bfa-a86a-a9e6b8caf90b",
   "metadata": {},
   "outputs": [
    {
     "data": {
      "text/plain": [
       "['gs://example_bucket/var2_model1_2020-2040.nc',\n",
       " 'gs://example_bucket/var2_model2_1980-2000.nc',\n",
       " 'gs://example_bucket/var2_model2_2020-2040.nc',\n",
       " 'gs://example_bucket/var3_model1_1980-2000.nc',\n",
       " 'gs://example_bucket/var3_model1_2020-2040.nc']"
      ]
     },
     "execution_count": 37,
     "metadata": {},
     "output_type": "execute_result"
    }
   ],
   "source": [
    "gsb.files_batch"
   ]
  },
  {
   "cell_type": "markdown",
   "id": "95b50204-2e52-4590-9886-6ff1e69bcece",
   "metadata": {},
   "source": [
    "Similarly you can go to the previous batch by calling `gsb.prev_batch()` and reset back to the first batch using `gsb.reset_batch()`."
   ]
  },
  {
   "cell_type": "markdown",
   "id": "7d9122d6-21dc-4e07-ba80-e00064b1d6d8",
   "metadata": {},
   "source": [
    "### 3. Getting / Putting Files\n",
    "\n",
    "If you are using a file list of files in a google bucket, you can easily download the files in your current batch to a directory of your choice. You provide this directory on creation of your gsbatch object by passing a path to `get_dir` and/or `put_dir`. Then to download data you can call:"
   ]
  },
  {
   "cell_type": "code",
   "execution_count": null,
   "id": "f4ec3bb7-a4b9-4883-8d40-c1c19cd99688",
   "metadata": {},
   "outputs": [],
   "source": [
    "gsb.get_batch()"
   ]
  },
  {
   "cell_type": "markdown",
   "id": "0528d171-c25b-42ca-8830-b3b3f988b5d7",
   "metadata": {},
   "source": [
    "Similarly, if you are dealing with local files that you would like to push to a google bucket directory:"
   ]
  },
  {
   "cell_type": "code",
   "execution_count": null,
   "id": "b86a3ffd-df59-4c45-aec0-24d2a3749b77",
   "metadata": {},
   "outputs": [],
   "source": [
    "gsb.put_batch()"
   ]
  },
  {
   "cell_type": "markdown",
   "id": "9c33e790-cb34-41c8-9b29-6212f5961737",
   "metadata": {},
   "source": [
    "Files downloaded using `get_batch` are considered temporary files by Gsbatch (otherwise why are you batching?). You might typically want to download a batch of files, apply a function, upload the resulting files and delete the batch of downloaded files. The Gsbatch object will keep track of the files downloaded using `get_batch()` in the `tmp_files` variable. There is a convenient function to delete these files:"
   ]
  },
  {
   "cell_type": "code",
   "execution_count": null,
   "id": "8c49a8ea-c5cc-480d-b9f4-e31fa1555288",
   "metadata": {},
   "outputs": [],
   "source": [
    "gsb.delete_tmp_files()"
   ]
  }
 ],
 "metadata": {
  "kernelspec": {
   "display_name": "Python 3 (ipykernel)",
   "language": "python",
   "name": "python3"
  },
  "language_info": {
   "codemirror_mode": {
    "name": "ipython",
    "version": 3
   },
   "file_extension": ".py",
   "mimetype": "text/x-python",
   "name": "python",
   "nbconvert_exporter": "python",
   "pygments_lexer": "ipython3",
   "version": "3.10.5"
  }
 },
 "nbformat": 4,
 "nbformat_minor": 5
}
